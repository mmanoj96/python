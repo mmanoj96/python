{
 "cells": [
  {
   "cell_type": "code",
   "execution_count": null,
   "metadata": {},
   "outputs": [],
   "source": [
    "import pandas as pd\n",
    "import pydeck as pdk\n",
    "import ipywidgets\n",
    "import json\n",
    "\n",
    "\n",
    "MAPBOX_API_KEY = 'Map Box API key'\n",
    "\n",
    "data = r'data_path'\n",
    "covid = pd.read_excel(data)\n",
    "covid['Active Cases'] = covid['Active Cases'].astype(float)\n",
    "covid['scaled'] = covid['Active Cases']/1_000\n",
    "#print(covid.columns)\n",
    "#covid.info()\n",
    "\n",
    "# view (location, zoom level, etc.)\n",
    "view = pdk.ViewState(latitude=20.5937, longitude=78.9629, pitch=50, zoom=4)\n",
    "\n",
    "# layer\n",
    "column_layer = pdk.Layer('ColumnLayer',\n",
    "                         data=covid,\n",
    "                         get_position=['Longitude', 'Latitude'],\n",
    "                         get_elevation=['scaled'],\n",
    "                         elevation_scale=1000,\n",
    "                         radius=30000,\n",
    "                         get_fill_color=[255,0,0, 100],\n",
    "                         get_label=\"State\",\n",
    "                         pickable=True,\n",
    "                         auto_highlight=True)\n",
    "\n",
    "tooltip = {\n",
    "    \"html\": \"\"\"<b>State:</b>{State} <br> <b>Total Cases:</b> {Total Cases} <br/> <b> Active Cases: </b> {Active Cases} <br/> <b> Total Recovered: </b> {Total Recovered}\n",
    "            <br/> <b> Total Death: </b> {Total Deaths}\"\"\",\n",
    "    \"style\": {\"background\": \"powderblue\", \"color\": \"black\", \"font-family\": '\"Helvetica Neue\", Arial', \"z-index\": \"10000\"},\n",
    "}\n",
    "\n",
    "\n",
    "# render map\n",
    "# with no map_style, map goes to default\n",
    "column_layer_map = pdk.Deck(layers=column_layer, \n",
    "                            initial_view_state=view,\n",
    "                            mapbox_key=MAPBOX_API_KEY,\n",
    "                            tooltip=tooltip,\n",
    "                            map_style='mapbox://styles/mapbox/light-v10')\n",
    "\n",
    "# display and save map (to_html(), show())\n",
    "column_layer_map.to_html(\"demo.html\")"
   ]
  },
  {
   "cell_type": "code",
   "execution_count": null,
   "metadata": {},
   "outputs": [],
   "source": []
  }
 ],
 "metadata": {
  "kernelspec": {
   "display_name": "Python 3",
   "language": "python",
   "name": "python3"
  },
  "language_info": {
   "codemirror_mode": {
    "name": "ipython",
    "version": 3
   },
   "file_extension": ".py",
   "mimetype": "text/x-python",
   "name": "python",
   "nbconvert_exporter": "python",
   "pygments_lexer": "ipython3",
   "version": "3.8.3"
  }
 },
 "nbformat": 4,
 "nbformat_minor": 4
}
